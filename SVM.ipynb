{
 "cells": [
  {
   "cell_type": "code",
   "execution_count": 1,
   "id": "4c818dd7",
   "metadata": {},
   "outputs": [],
   "source": [
    "#Numpy is used for handling the multi-dimensional array operation\n",
    "import numpy as np\n",
    "#Pandas is used for reading the data from csv\n",
    "import pandas as pd\n",
    "#For finding the p-value\n",
    "import statsmodels.api as sm\n",
    "#sklearn preprocessing is used for normalization\n",
    "from sklearn.preprocessing import MinMaxScaler\n",
    "#sklearn model selection is used for splitting dataset into train and test sets\n",
    "from sklearn.model_selection import train_test_split as tts\n",
    "#sklearn matrics used for calcualting the accuracy score, recall score and precision score\n",
    "from sklearn.metrics import accuracy_score, recall_score, precision_score\n",
    "#Sequence of shuffled copies of the collections will be import through sklearn\n",
    "from sklearn.utils import shuffle"
   ]
  },
  {
   "cell_type": "code",
   "execution_count": 2,
   "id": "043e76af",
   "metadata": {},
   "outputs": [],
   "source": [
    "#FEATURE SELECTION"
   ]
  },
  {
   "cell_type": "code",
   "execution_count": 3,
   "id": "8d487dfe",
   "metadata": {},
   "outputs": [],
   "source": [
    "#Remove the highly correlated features\n",
    "def remove_correlated_features(X):\n",
    "    corr_threshold = 0.9\n",
    "    corr = X.corr()\n",
    "    drop_columns = np.full(corr.shape[0], False, dtype=bool)\n",
    "    for i in range(corr.shape[0]):\n",
    "        for j in range(i + 1, corr.shape[0]):\n",
    "            if corr.iloc[i, j] >= corr_threshold:\n",
    "                drop_columns[j] = True\n",
    "    columns_dropped = X.columns[drop_columns]\n",
    "    X.drop(columns_dropped, axis=1, inplace=True)\n",
    "    return columns_dropped"
   ]
  },
  {
   "cell_type": "code",
   "execution_count": 4,
   "id": "cb0ac2bf",
   "metadata": {},
   "outputs": [],
   "source": [
    "#Remove the less significant features using the pvalues and elimination\n",
    "def remove_less_significant_features(X, Y):\n",
    "    sl = 0.05\n",
    "    regression_ols = None\n",
    "    columns_dropped = np.array([])\n",
    "    for itr in range(0, len(X.columns)):\n",
    "        regression_ols = sm.OLS(Y, X).fit()\n",
    "        max_col = regression_ols.pvalues.idxmax()\n",
    "        max_val = regression_ols.pvalues.max()\n",
    "        if max_val > sl:\n",
    "            X.drop(max_col, axis='columns', inplace=True)\n",
    "            columns_dropped = np.append(columns_dropped, [max_col])\n",
    "        else:\n",
    "            break\n",
    "    regression_ols.summary()\n",
    "    return columns_dropped"
   ]
  },
  {
   "cell_type": "code",
   "execution_count": 5,
   "id": "43a08258",
   "metadata": {},
   "outputs": [],
   "source": [
    "#MODEL TRAINING"
   ]
  },
  {
   "cell_type": "code",
   "execution_count": 6,
   "id": "f44c1950",
   "metadata": {},
   "outputs": [],
   "source": [
    "#Cost function\n",
    "def compute_cost(W, X, Y):\n",
    "    # calculate hinge loss\n",
    "    N = X.shape[0]\n",
    "    distances = 1 - Y * (np.dot(X, W))\n",
    "    # equivalent to max(0, distance)\n",
    "    distances[distances < 0] = 0  \n",
    "    hinge_loss = regularization_strength * (np.sum(distances) / N)\n",
    "\n",
    "    # calculate cost\n",
    "    cost = 1 / 2 * np.dot(W, W) + hinge_loss\n",
    "    return cost"
   ]
  },
  {
   "cell_type": "code",
   "execution_count": 7,
   "id": "af0f73fb",
   "metadata": {},
   "outputs": [],
   "source": [
    "#The Gradient of the Cost function\n",
    "def calculate_cost_gradient(W, X_batch, Y_batch):\n",
    "    # if only one example is passed (eg. in case of SGD)\n",
    "    if type(Y_batch) == np.float64:\n",
    "        # gives multidimensional array\n",
    "        Y_batch = np.array([Y_batch])\n",
    "        X_batch = np.array([X_batch])  \n",
    "\n",
    "    distance = 1 - (Y_batch * np.dot(X_batch, W))\n",
    "    dw = np.zeros(len(W))\n",
    "\n",
    "    for ind, d in enumerate(distance):\n",
    "        if max(0, d) == 0:\n",
    "            di = W\n",
    "        else:\n",
    "            di = W - (regularization_strength * Y_batch[ind] * X_batch[ind])\n",
    "        dw += di\n",
    "\n",
    "     # average\n",
    "    dw = dw/len(Y_batch) \n",
    "    return dw"
   ]
  },
  {
   "cell_type": "code",
   "execution_count": 8,
   "id": "a9af563b",
   "metadata": {},
   "outputs": [],
   "source": [
    "#Train model Using SGD\n",
    "def sgd(features, outputs):\n",
    "    #Running the loop 5000 times\n",
    "    max_epochs = 5000\n",
    "    weights = np.zeros(features.shape[1])\n",
    "    nth = 0\n",
    "    prev_cost = float(\"inf\")\n",
    "    cost_threshold = 0.01  # in percent\n",
    "    # stochastic gradient descent\n",
    "    for epoch in range(1, max_epochs):\n",
    "        # shuffle to prevent repeating update cycles\n",
    "        X, Y = shuffle(features, outputs)\n",
    "        for ind, x in enumerate(X):\n",
    "            ascent = calculate_cost_gradient(weights, x, Y[ind])\n",
    "            weights = weights - (learning_rate * ascent)\n",
    "\n",
    "        # convergence check on 2^nth epoch\n",
    "        if epoch == 2 ** nth or epoch == max_epochs - 1:\n",
    "            cost = compute_cost(weights, features, outputs)\n",
    "            print(\"Epoch is: {} and Cost is: {}\".format(epoch, cost))\n",
    "            # stoppage criterion\n",
    "            if abs(prev_cost - cost) < cost_threshold * prev_cost:\n",
    "                return weights\n",
    "            prev_cost = cost\n",
    "            nth += 1\n",
    "    return weights\n",
    "\n"
   ]
  },
  {
   "cell_type": "code",
   "execution_count": 9,
   "id": "1cd215ef",
   "metadata": {},
   "outputs": [],
   "source": [
    "#Initilalize the algorithm"
   ]
  },
  {
   "cell_type": "code",
   "execution_count": 10,
   "id": "35f3ffa6",
   "metadata": {},
   "outputs": [],
   "source": [
    "def init():\n",
    "    # read data in pandas (pd) data frame\n",
    "    #Import the Bread Cancer dataset\n",
    "    data = pd.read_csv('data.csv')\n",
    "    \n",
    "    # unnecessary first column (Sample code numbe) will be removed\n",
    "    data.drop(data.columns[[0]], axis=1, inplace=True)\n",
    "  \n",
    "    \n",
    "    # convert the 4 and 2 class label to 1 and -1 respectively\n",
    "    diag_map = {4: 1.0, 2: -1.0}\n",
    "    data['Class'] = data['Class'].map(diag_map)\n",
    "\n",
    "    # put features & output lables into different data frames\n",
    "    Y = data.loc[:, 'Class']\n",
    "    X = data.iloc[:, 0:9]\n",
    "\n",
    "    # filter features\n",
    "    remove_correlated_features(X)\n",
    "    remove_less_significant_features(X, Y)\n",
    "\n",
    "    # normalize data for better convergence and to prevent overflow\n",
    "    #As many features are in different range of valaues, we are trying to get them into intervals like [-1,1] or[0,1].\n",
    "    #This will be help for the speed of the learning of faster convergence in gradient descent\n",
    "    X_normalized = MinMaxScaler().fit_transform(X.values)\n",
    "    X = pd.DataFrame(X_normalized)\n",
    "\n",
    "    # insert 1 in every row for intercept b as in the cost function the intercept will be missed\n",
    "    X.insert(loc=len(X.columns), column='intercept', value=1)\n",
    "\n",
    "    # split data into train and test set\n",
    "    X_train, X_test, y_train, y_test = tts(X, Y, test_size=0.2, random_state=42)\n",
    "\n",
    "    # train the model\n",
    "    W = sgd(X_train.to_numpy(), y_train.to_numpy())\n",
    "    #trained Finished\n",
    "    print(\"training finished.\")\n",
    "    print(\"weights are: {}\".format(W))\n",
    "\n",
    "    # testing the model\n",
    "    y_train_predicted = np.array([])\n",
    "    for i in range(X_train.shape[0]):\n",
    "        yp = np.sign(np.dot(X_train.to_numpy()[i], W))\n",
    "        y_train_predicted = np.append(y_train_predicted, yp)\n",
    "\n",
    "    y_test_predicted = np.array([])\n",
    "    for i in range(X_test.shape[0]):\n",
    "        yp = np.sign(np.dot(X_test.to_numpy()[i], W))\n",
    "        y_test_predicted = np.append(y_test_predicted, yp)\n",
    "\n",
    "    #Print the accuracy, recall and precision values of the dataset\n",
    "    print(\"accuracy on test dataset: {}\".format(accuracy_score(y_test, y_test_predicted)))\n",
    "    print(\"recall on test dataset: {}\".format(recall_score(y_test, y_test_predicted)))\n",
    "    print(\"precision on test dataset: {}\".format(recall_score(y_test, y_test_predicted)))\n"
   ]
  },
  {
   "cell_type": "code",
   "execution_count": 11,
   "id": "a36627d9",
   "metadata": {},
   "outputs": [
    {
     "name": "stdout",
     "output_type": "stream",
     "text": [
      "Epoch is: 1 and Cost is: 1503.4077000758928\n",
      "Epoch is: 2 and Cost is: 1084.2156159874844\n",
      "Epoch is: 4 and Cost is: 940.1947032477274\n",
      "Epoch is: 8 and Cost is: 862.4734953439086\n",
      "Epoch is: 16 and Cost is: 821.5589083708489\n",
      "Epoch is: 32 and Cost is: 793.1776276129445\n",
      "Epoch is: 64 and Cost is: 769.6905273160899\n",
      "Epoch is: 128 and Cost is: 746.2380441486853\n",
      "Epoch is: 256 and Cost is: 744.3168644026167\n",
      "training finished.\n",
      "weights are: [ 2.34499817  1.18195134  0.86477801  2.18043713  1.70429836  0.39438998\n",
      "  1.67916619 -3.18116038]\n",
      "accuracy on test dataset: 0.9642857142857143\n",
      "recall on test dataset: 0.9111111111111111\n",
      "precision on test dataset: 0.9111111111111111\n"
     ]
    }
   ],
   "source": [
    "regularization_strength = 10000\n",
    "learning_rate = 0.000001\n",
    "init()\n"
   ]
  }
 ],
 "metadata": {
  "kernelspec": {
   "display_name": "Python 3",
   "language": "python",
   "name": "python3"
  },
  "language_info": {
   "codemirror_mode": {
    "name": "ipython",
    "version": 3
   },
   "file_extension": ".py",
   "mimetype": "text/x-python",
   "name": "python",
   "nbconvert_exporter": "python",
   "pygments_lexer": "ipython3",
   "version": "3.6.8"
  }
 },
 "nbformat": 4,
 "nbformat_minor": 5
}
